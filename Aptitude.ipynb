{
 "cells": [
  {
   "cell_type": "markdown",
   "metadata": {},
   "source": [
    "## Profit and Loss:\n",
    "### Formulae:\n",
    "### 1. profit = selling price - cost price(when sp>cp)\n",
    "### 2. loss   = cost price - selling price(when sp<cp)\n",
    "### 3. profit percentage = (profit/cost price)*100\n",
    "### 4. loss percentage = (loss/cost price)*100"
   ]
  },
  {
   "cell_type": "code",
   "execution_count": 3,
   "metadata": {},
   "outputs": [
    {
     "name": "stdout",
     "output_type": "stream",
     "text": [
      "profit= 300 profit percent= 5.454545454545454\n"
     ]
    }
   ],
   "source": [
    "#Alfred buys an old scooter for Rs. 4700 and spends Rs. 800 on its repairs. \n",
    "#If he sells the scooter for Rs. 5800, his gain percent is:\n",
    "#cp=cost price,sp=selling price,p=profit,p_per=profit percentage\n",
    "cp = 4700+800\n",
    "sp = 5800\n",
    "p = sp-cp\n",
    "p_per = (p/cp)*100\n",
    "print(\"profit=\",p,\"profit percent=\",p_per)"
   ]
  },
  {
   "cell_type": "markdown",
   "metadata": {},
   "source": [
    "## Time and Distance\n",
    "### Formulae:\n",
    "### 1. Distance = time*speed\n",
    "### 2. Time = Distance/speed\n",
    "### 3. speed = Distance/time\n",
    "### conversions:\n",
    "### kmph to mps-->multiply by 5/18\n",
    "### mps to kmph -->multiply by 18/5"
   ]
  },
  {
   "cell_type": "code",
   "execution_count": 5,
   "metadata": {},
   "outputs": [
    {
     "data": {
      "text/plain": [
       "7.2"
      ]
     },
     "execution_count": 5,
     "metadata": {},
     "output_type": "execute_result"
    }
   ],
   "source": [
    "# Questio 1:\n",
    "#A person crosses a 600 m long street in 5 minutes. What is his speed in km per hour?\n",
    "time = 5\n",
    "distance = 600\n",
    "speed = 600/(5*60) #mps\n",
    "s_kmph = speed*(18/5)# speed in kmph\n",
    "s_kmph\n"
   ]
  },
  {
   "cell_type": "code",
   "execution_count": 6,
   "metadata": {},
   "outputs": [
    {
     "data": {
      "text/plain": [
       "600.0"
      ]
     },
     "execution_count": 6,
     "metadata": {},
     "output_type": "execute_result"
    }
   ],
   "source": [
    "# Question 2:\n",
    "# An aeroplane covers a certain distance at a speed of 240 kmph in 5 hours. \n",
    "# To cover the same distance in 1 2/3 hours, it must travel at a speed of:\n",
    "s = 200\n",
    "t = 5\n",
    "d = s * t\n",
    "expected_speed = d/(5/3)\n",
    "expected_speed"
   ]
  },
  {
   "cell_type": "markdown",
   "metadata": {},
   "source": [
    "## Simple interest:\n",
    "### Formulae:\n",
    "### $$ 1.SI =  (P*T*R)/100 $$"
   ]
  },
  {
   "cell_type": "code",
   "execution_count": 9,
   "metadata": {},
   "outputs": [
    {
     "data": {
      "text/plain": [
       "698"
      ]
     },
     "execution_count": 9,
     "metadata": {},
     "output_type": "execute_result"
    }
   ],
   "source": [
    "#Question:\n",
    "#A sum of money at simple interest amounts to Rs. 815 in 3 years and to Rs. 854 in 4 years. The sum is:\n",
    "si_for_1yr = 854-815\n",
    "si_for_3yrs = si_for_1yr * 3\n",
    "sum = 815 - si_for_3yrs\n",
    "sum"
   ]
  },
  {
   "cell_type": "code",
   "execution_count": null,
   "metadata": {},
   "outputs": [],
   "source": []
  }
 ],
 "metadata": {
  "kernelspec": {
   "display_name": "Python 3",
   "language": "python",
   "name": "python3"
  },
  "language_info": {
   "codemirror_mode": {
    "name": "ipython",
    "version": 3
   },
   "file_extension": ".py",
   "mimetype": "text/x-python",
   "name": "python",
   "nbconvert_exporter": "python",
   "pygments_lexer": "ipython3",
   "version": "3.7.3"
  }
 },
 "nbformat": 4,
 "nbformat_minor": 2
}
